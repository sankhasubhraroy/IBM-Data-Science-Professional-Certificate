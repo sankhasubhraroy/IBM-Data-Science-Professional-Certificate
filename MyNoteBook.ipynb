{
    "cells": [
        {
            "cell_type": "markdown",
            "metadata": {
                "collapsed": true
            },
            "source": "<h1>My Jupyter Notebook on IBM Watson Studio</h1>"
        },
        {
            "cell_type": "markdown",
            "metadata": {},
            "source": "<b>Sankhasubhra Roy</b><br>Full Stack Developer"
        },
        {
            "cell_type": "markdown",
            "metadata": {},
            "source": "Data Science leads us to the future. And I am interested in data science because I love to work with data."
        },
        {
            "cell_type": "markdown",
            "metadata": {},
            "source": "<h3>The below should print \u2018Hello World\u2019</h3>"
        },
        {
            "cell_type": "code",
            "execution_count": 3,
            "metadata": {},
            "outputs": [
                {
                    "name": "stdout",
                    "output_type": "stream",
                    "text": "Hello World!\n"
                }
            ],
            "source": "print(\"Hello World!\")"
        },
        {
            "cell_type": "markdown",
            "metadata": {},
            "source": "<blockquote cite=\"http://www.worldwildlife.org/who/index.html\">\nFor 50 years, WWF has been protecting the future of nature. The world's leading conservation organization, WWF works in 100 countries and is supported by 1.2 million members in the United States and close to 5 million globally.\n</blockquote>\n<list>\n    <ul>\n        <li>First</li>\n        <li>Second</li>\n        <li>Third</li>\n    </ul>\n</list>\n\n<table>\n  <th>\n    <td>Employee ID</td>\n    <td>Name</td>\n    <td>Gender</td>\n  </th>\n  <tr>\n    <td>1</td>\n    <td>134</td>\n    <td>Shubham</td>\n    <td>Male</td>\n  </tr>\n</table>"
        }
    ],
    "metadata": {
        "kernelspec": {
            "display_name": "Python 3.9",
            "language": "python",
            "name": "python3"
        },
        "language_info": {
            "codemirror_mode": {
                "name": "ipython",
                "version": 3
            },
            "file_extension": ".py",
            "mimetype": "text/x-python",
            "name": "python",
            "nbconvert_exporter": "python",
            "pygments_lexer": "ipython3",
            "version": "3.9.13"
        }
    },
    "nbformat": 4,
    "nbformat_minor": 1
}